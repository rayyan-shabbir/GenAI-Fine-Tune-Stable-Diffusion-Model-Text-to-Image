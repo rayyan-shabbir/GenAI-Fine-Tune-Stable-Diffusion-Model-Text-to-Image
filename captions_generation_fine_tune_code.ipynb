{
 "cells": [
  {
   "cell_type": "code",
   "execution_count": 7,
   "metadata": {},
   "outputs": [],
   "source": [
    "# !pip install huggingface_hub"
   ]
  },
  {
   "cell_type": "code",
   "execution_count": 8,
   "metadata": {},
   "outputs": [],
   "source": [
    "# !pip install ipywidgets"
   ]
  },
  {
   "cell_type": "markdown",
   "metadata": {},
   "source": [
    "## Importing Libraries"
   ]
  },
  {
   "cell_type": "code",
   "execution_count": null,
   "metadata": {},
   "outputs": [],
   "source": [
    "from huggingface_hub import notebook_login\n",
    "from datasets import load_dataset\n",
    "import pandas as pd\n",
    "import random"
   ]
  },
  {
   "cell_type": "code",
   "execution_count": null,
   "metadata": {},
   "outputs": [],
   "source": [
    "# Load the Excel file\n",
    "df = pd.read_csv('./Hands_Dataset/HandInfo.csv')"
   ]
  },
  {
   "cell_type": "markdown",
   "metadata": {},
   "source": [
    "- Generating captions for the images"
   ]
  },
  {
   "cell_type": "code",
   "execution_count": null,
   "metadata": {},
   "outputs": [],
   "source": [
    "# Function to generate a caption based on the row data\n",
    "def generate_caption(row):\n",
    "    captions = [\n",
    "        f\"A {row['age']} year old {row['gender']} with {row['skinColor']} skin, {row['accessories']} accessories, and {'nail polish' if row['nailPolish'] else 'no nail polish'} showing {row['aspectOfHand']} hand.\",\n",
    "        f\"This image, named {row['imageName']}, shows a {row['aspectOfHand']} hand of a {row['gender']} aged {row['age']}, having {row['skinColor']} skin and wearing {row['accessories']}.\",\n",
    "        f\"Featuring a {row['aspectOfHand']} hand by a {row['age']} year old {row['gender']}, with {row['skinColor']} skin tone, accessorized with {row['accessories']} and {'sporting nail polish' if row['nailPolish'] else 'without nail polish'}. Irregularities include {row['irregularities']}.\",\n",
    "        f\"Here we see a {row['gender']} aged {row['age']} showing their {row['aspectOfHand']} hand. The skin tone is {row['skinColor']} and the accessories are {row['accessories']}. {'Nail polish is visible.' if row['nailPolish'] else 'There is no nail polish.'}\"\n",
    "    ]\n",
    "   \n",
    "    caption = random.choice(captions)\n",
    "    return caption\n"
   ]
  },
  {
   "cell_type": "code",
   "execution_count": null,
   "metadata": {},
   "outputs": [],
   "source": [
    "# Apply the function to each row in the dataframe\n",
    "df['caption'] = df.apply(generate_caption, axis=1)\n",
    "columns_to_drop = ['id','age', 'gender','skinColor','accessories', 'nailPolish','aspectOfHand','irregularities']\n",
    "df.drop(columns=columns_to_drop,inplace=True)\n",
    "df.rename(columns={'imageName': 'file_name'}, inplace=True)\n",
    "df.rename(columns={'caption': 'text'}, inplace=True)\n",
    " \n",
    " \n",
    "# Save the captions to a new Excel file or as needed\n",
    "df.to_csv('./Hands_Dataset/captions.csv', index=False)\n",
    " \n",
    "# Print the dataframe to see the captions\n",
    "print(df[['file_name', 'text']])"
   ]
  },
  {
   "cell_type": "markdown",
   "metadata": {},
   "source": [
    "- Logging into HuggingFace to export data there."
   ]
  },
  {
   "cell_type": "code",
   "execution_count": 2,
   "metadata": {},
   "outputs": [
    {
     "data": {
      "application/vnd.jupyter.widget-view+json": {
       "model_id": "c8ab900c93af4282b7cdcc3b86d3cc62",
       "version_major": 2,
       "version_minor": 0
      },
      "text/plain": [
       "VBox(children=(HTML(value='<center> <img\\nsrc=https://huggingface.co/front/assets/huggingface_logo-noborder.sv…"
      ]
     },
     "metadata": {},
     "output_type": "display_data"
    }
   ],
   "source": [
    "notebook_login()"
   ]
  },
  {
   "cell_type": "code",
   "execution_count": 3,
   "metadata": {},
   "outputs": [
    {
     "data": {
      "application/vnd.jupyter.widget-view+json": {
       "model_id": "e3c0bab0463044f38c63889fe834263e",
       "version_major": 2,
       "version_minor": 0
      },
      "text/plain": [
       "Resolving data files:   0%|          | 0/11076 [00:00<?, ?it/s]"
      ]
     },
     "metadata": {},
     "output_type": "display_data"
    },
    {
     "data": {
      "application/vnd.jupyter.widget-view+json": {
       "model_id": "2b2b20d2aa5d4a8ab297fc304950b2bf",
       "version_major": 2,
       "version_minor": 0
      },
      "text/plain": [
       "Downloading data:   0%|          | 0/11076 [00:00<?, ?files/s]"
      ]
     },
     "metadata": {},
     "output_type": "display_data"
    },
    {
     "data": {
      "application/vnd.jupyter.widget-view+json": {
       "model_id": "35ebf4e63e44415ba6e443da309e3db9",
       "version_major": 2,
       "version_minor": 0
      },
      "text/plain": [
       "Generating train split: 0 examples [00:00, ? examples/s]"
      ]
     },
     "metadata": {},
     "output_type": "display_data"
    }
   ],
   "source": [
    "dataset = load_dataset(\"./Hands_Dataset/Hands\", split=\"train\")"
   ]
  },
  {
   "cell_type": "markdown",
   "metadata": {},
   "source": [
    "- Exporting dataset to HuggingFace"
   ]
  },
  {
   "cell_type": "code",
   "execution_count": 6,
   "metadata": {},
   "outputs": [
    {
     "data": {
      "application/vnd.jupyter.widget-view+json": {
       "model_id": "952bcc925f9248568029cc331eebb2b9",
       "version_major": 2,
       "version_minor": 0
      },
      "text/plain": [
       "Uploading the dataset shards:   0%|          | 0/2 [00:00<?, ?it/s]"
      ]
     },
     "metadata": {},
     "output_type": "display_data"
    },
    {
     "data": {
      "application/vnd.jupyter.widget-view+json": {
       "model_id": "d7a015509f344b1ba9753e929a564cb9",
       "version_major": 2,
       "version_minor": 0
      },
      "text/plain": [
       "Map:   0%|          | 0/5538 [00:00<?, ? examples/s]"
      ]
     },
     "metadata": {},
     "output_type": "display_data"
    },
    {
     "data": {
      "application/vnd.jupyter.widget-view+json": {
       "model_id": "3fffc6df08034a889f77b408bce589a9",
       "version_major": 2,
       "version_minor": 0
      },
      "text/plain": [
       "Creating parquet from Arrow format:   0%|          | 0/56 [00:00<?, ?ba/s]"
      ]
     },
     "metadata": {},
     "output_type": "display_data"
    },
    {
     "data": {
      "application/vnd.jupyter.widget-view+json": {
       "model_id": "7a1b04a3b86a48c6996f2527f86d8f0d",
       "version_major": 2,
       "version_minor": 0
      },
      "text/plain": [
       "Map:   0%|          | 0/5538 [00:00<?, ? examples/s]"
      ]
     },
     "metadata": {},
     "output_type": "display_data"
    },
    {
     "data": {
      "application/vnd.jupyter.widget-view+json": {
       "model_id": "69972637bed847fcac5f62012e5bf759",
       "version_major": 2,
       "version_minor": 0
      },
      "text/plain": [
       "Creating parquet from Arrow format:   0%|          | 0/56 [00:00<?, ?ba/s]"
      ]
     },
     "metadata": {},
     "output_type": "display_data"
    },
    {
     "data": {
      "text/plain": [
       "CommitInfo(commit_url='https://huggingface.co/datasets/rayyanshabbir/my-hand-captioning-dataset/commit/0c48a173622510e3786de9c1f09d415639265319', commit_message='Upload dataset', commit_description='', oid='0c48a173622510e3786de9c1f09d415639265319', pr_url=None, repo_url=RepoUrl('https://huggingface.co/datasets/rayyanshabbir/my-hand-captioning-dataset', endpoint='https://huggingface.co', repo_type='dataset', repo_id='rayyanshabbir/my-hand-captioning-dataset'), pr_revision=None, pr_num=None)"
      ]
     },
     "execution_count": 6,
     "metadata": {},
     "output_type": "execute_result"
    }
   ],
   "source": [
    "dataset.push_to_hub(\"rayyanshabbir/my-hand-captioning-dataset\")"
   ]
  },
  {
   "cell_type": "code",
   "execution_count": null,
   "metadata": {},
   "outputs": [],
   "source": []
  }
 ],
 "metadata": {
  "kernelspec": {
   "display_name": "Python 3",
   "language": "python",
   "name": "python3"
  },
  "language_info": {
   "codemirror_mode": {
    "name": "ipython",
    "version": 3
   },
   "file_extension": ".py",
   "mimetype": "text/x-python",
   "name": "python",
   "nbconvert_exporter": "python",
   "pygments_lexer": "ipython3",
   "version": "3.9.13"
  }
 },
 "nbformat": 4,
 "nbformat_minor": 2
}
